{
 "cells": [
  {
   "cell_type": "code",
   "execution_count": 2,
   "metadata": {},
   "outputs": [
    {
     "name": "stdout",
     "output_type": "stream",
     "text": [
      "INFO: Pandarallel will run on 8 workers.\n",
      "INFO: Pandarallel will use standard multiprocessing data transfer (pipe) to transfer data between the main process and workers.\n"
     ]
    }
   ],
   "source": [
    "import json\n",
    "import os\n",
    "import re\n",
    "import numpy as np\n",
    "import pandas as pd\n",
    "import matplotlib.pyplot as plt\n",
    "\n",
    "%matplotlib inline\n",
    "plt.rcParams['font.sans-serif']=['SimHei']"
   ]
  },
  {
   "cell_type": "markdown",
   "metadata": {},
   "source": [
    "# 1.对评论数据以及评论对应的新闻数据进行预处理"
   ]
  },
  {
   "cell_type": "code",
   "execution_count": 3,
   "metadata": {},
   "outputs": [
    {
     "name": "stdout",
     "output_type": "stream",
     "text": [
      "合计获取到1534616条新闻评论数据\n"
     ]
    }
   ],
   "source": [
    "# 获得评论数据\n",
    "comment_path_ori = './news/comment' # 评论文件存放路径\n",
    "comment_data = []\n",
    "for i in os.listdir(comment_path_ori):\n",
    "    comment_path = os.path.join(comment_path_ori, i)\n",
    "    with open(comment_path, 'r', encoding='utf-8') as f:\n",
    "        datas = json.load(f)\n",
    "        for data in datas:\n",
    "            comment_len = len(data['comment'])\n",
    "            # 只提取有评论的数据\n",
    "            for j in range(comment_len): \n",
    "                dic = {}\n",
    "                dic['新闻发布日期'] = '2020-' + data['time'].split()[0]\n",
    "                dic['新闻发布时间'] = data['time'].split()[1]\n",
    "                dic['新闻标题'] = data['title']\n",
    "                dic['新闻url'] = data['url']\n",
    "                dic['评论发布区域'] = data['comment'][j]['area']\n",
    "                dic['评论内容'] = data['comment'][j]['content']\n",
    "                dic['评论发布者id'] = data['comment'][j]['nickname']\n",
    "                dic['评论回复id'] = data['comment'][j]['reply_to']\n",
    "                dic['评论发布日期'] = data['comment'][j]['time'].split()[0]\n",
    "                dic['评论发布时间'] = data['comment'][j]['time'].split()[1]\n",
    "                comment_data.append(dic)\n",
    "print('合计获取到{}条新闻评论数据'.format(len(comment_data)))"
   ]
  },
  {
   "cell_type": "code",
   "execution_count": 4,
   "metadata": {},
   "outputs": [
    {
     "name": "stdout",
     "output_type": "stream",
     "text": [
      "去重后，剩余1527884条新闻评论数据\n"
     ]
    },
    {
     "data": {
      "text/html": [
       "<div>\n",
       "<style scoped>\n",
       "    .dataframe tbody tr th:only-of-type {\n",
       "        vertical-align: middle;\n",
       "    }\n",
       "\n",
       "    .dataframe tbody tr th {\n",
       "        vertical-align: top;\n",
       "    }\n",
       "\n",
       "    .dataframe thead th {\n",
       "        text-align: right;\n",
       "    }\n",
       "</style>\n",
       "<table border=\"1\" class=\"dataframe\">\n",
       "  <thead>\n",
       "    <tr style=\"text-align: right;\">\n",
       "      <th></th>\n",
       "      <th>新闻发布日期</th>\n",
       "      <th>新闻发布时间</th>\n",
       "      <th>新闻标题</th>\n",
       "      <th>新闻url</th>\n",
       "      <th>评论发布区域</th>\n",
       "      <th>评论内容</th>\n",
       "      <th>评论发布者id</th>\n",
       "      <th>评论回复id</th>\n",
       "      <th>评论发布日期</th>\n",
       "      <th>评论发布时间</th>\n",
       "    </tr>\n",
       "  </thead>\n",
       "  <tbody>\n",
       "    <tr>\n",
       "      <th>0</th>\n",
       "      <td>2020-02-27</td>\n",
       "      <td>02:32</td>\n",
       "      <td>英媒：中国养蜂人遭“封锁” 新冠病毒“蜇疼”蜂蜜生产国</td>\n",
       "      <td>https://finance.sina.com.cn/chanjing/cyxw/2020...</td>\n",
       "      <td>上海</td>\n",
       "      <td>应该对健康的养蜂人网开一面，不能因噎废食！</td>\n",
       "      <td>ljg19511110</td>\n",
       "      <td></td>\n",
       "      <td>2020-02-28</td>\n",
       "      <td>11:08:19</td>\n",
       "    </tr>\n",
       "    <tr>\n",
       "      <th>1</th>\n",
       "      <td>2020-02-27</td>\n",
       "      <td>02:32</td>\n",
       "      <td>英媒：中国养蜂人遭“封锁” 新冠病毒“蜇疼”蜂蜜生产国</td>\n",
       "      <td>https://finance.sina.com.cn/chanjing/cyxw/2020...</td>\n",
       "      <td>辽宁大连</td>\n",
       "      <td>政策难以想到方方面面啊</td>\n",
       "      <td>用户5171625849</td>\n",
       "      <td></td>\n",
       "      <td>2020-02-28</td>\n",
       "      <td>09:38:51</td>\n",
       "    </tr>\n",
       "    <tr>\n",
       "      <th>2</th>\n",
       "      <td>2020-02-27</td>\n",
       "      <td>02:32</td>\n",
       "      <td>英媒：中国养蜂人遭“封锁” 新冠病毒“蜇疼”蜂蜜生产国</td>\n",
       "      <td>https://finance.sina.com.cn/chanjing/cyxw/2020...</td>\n",
       "      <td>北京</td>\n",
       "      <td>蜜蜂感染了冠状病毒怎么办？</td>\n",
       "      <td>用户6485007919</td>\n",
       "      <td></td>\n",
       "      <td>2020-02-28</td>\n",
       "      <td>03:32:49</td>\n",
       "    </tr>\n",
       "    <tr>\n",
       "      <th>3</th>\n",
       "      <td>2020-02-27</td>\n",
       "      <td>02:32</td>\n",
       "      <td>英媒：中国养蜂人遭“封锁” 新冠病毒“蜇疼”蜂蜜生产国</td>\n",
       "      <td>https://finance.sina.com.cn/chanjing/cyxw/2020...</td>\n",
       "      <td>广西南宁</td>\n",
       "      <td>对于一毛不拨的想都别想，只想尽可能以最低成本</td>\n",
       "      <td>复古电风扇</td>\n",
       "      <td>用户5171625849</td>\n",
       "      <td>2020-02-28</td>\n",
       "      <td>11:06:29</td>\n",
       "    </tr>\n",
       "    <tr>\n",
       "      <th>4</th>\n",
       "      <td>2020-02-27</td>\n",
       "      <td>02:32</td>\n",
       "      <td>英媒：中国养蜂人遭“封锁” 新冠病毒“蜇疼”蜂蜜生产国</td>\n",
       "      <td>https://finance.sina.com.cn/chanjing/cyxw/2020...</td>\n",
       "      <td>广东深圳</td>\n",
       "      <td>蜜蜂不会。蜜蜂又不是腐乳动物~</td>\n",
       "      <td>用户v6xu1xcswl</td>\n",
       "      <td>用户6485007919</td>\n",
       "      <td>2020-02-28</td>\n",
       "      <td>06:59:55</td>\n",
       "    </tr>\n",
       "  </tbody>\n",
       "</table>\n",
       "</div>"
      ],
      "text/plain": [
       "       新闻发布日期 新闻发布时间                         新闻标题  \\\n",
       "0  2020-02-27  02:32  英媒：中国养蜂人遭“封锁” 新冠病毒“蜇疼”蜂蜜生产国   \n",
       "1  2020-02-27  02:32  英媒：中国养蜂人遭“封锁” 新冠病毒“蜇疼”蜂蜜生产国   \n",
       "2  2020-02-27  02:32  英媒：中国养蜂人遭“封锁” 新冠病毒“蜇疼”蜂蜜生产国   \n",
       "3  2020-02-27  02:32  英媒：中国养蜂人遭“封锁” 新冠病毒“蜇疼”蜂蜜生产国   \n",
       "4  2020-02-27  02:32  英媒：中国养蜂人遭“封锁” 新冠病毒“蜇疼”蜂蜜生产国   \n",
       "\n",
       "                                               新闻url 评论发布区域  \\\n",
       "0  https://finance.sina.com.cn/chanjing/cyxw/2020...     上海   \n",
       "1  https://finance.sina.com.cn/chanjing/cyxw/2020...   辽宁大连   \n",
       "2  https://finance.sina.com.cn/chanjing/cyxw/2020...     北京   \n",
       "3  https://finance.sina.com.cn/chanjing/cyxw/2020...   广西南宁   \n",
       "4  https://finance.sina.com.cn/chanjing/cyxw/2020...   广东深圳   \n",
       "\n",
       "                     评论内容       评论发布者id        评论回复id      评论发布日期    评论发布时间  \n",
       "0   应该对健康的养蜂人网开一面，不能因噎废食！   ljg19511110                2020-02-28  11:08:19  \n",
       "1             政策难以想到方方面面啊  用户5171625849                2020-02-28  09:38:51  \n",
       "2           蜜蜂感染了冠状病毒怎么办？  用户6485007919                2020-02-28  03:32:49  \n",
       "3  对于一毛不拨的想都别想，只想尽可能以最低成本         复古电风扇  用户5171625849  2020-02-28  11:06:29  \n",
       "4         蜜蜂不会。蜜蜂又不是腐乳动物~  用户v6xu1xcswl  用户6485007919  2020-02-28  06:59:55  "
      ]
     },
     "execution_count": 4,
     "metadata": {},
     "output_type": "execute_result"
    }
   ],
   "source": [
    "# 转成DataFrame格式，对数据进行去重\n",
    "comment_data_df = pd.DataFrame(comment_data)\n",
    "# 去除空数据\n",
    "comment_data_df.dropna()\n",
    "comment_data_df = comment_data_df[comment_data_df['评论发布区域']!='']\n",
    "comment_data_df = comment_data_df[comment_data_df['评论内容']!='']\n",
    "comment_data_df.drop_duplicates(inplace=True)\n",
    "\n",
    "print('去重后，剩余{}条新闻评论数据'.format(len(comment_data_df)))\n",
    "comment_data_df.head()"
   ]
  },
  {
   "cell_type": "code",
   "execution_count": 7,
   "metadata": {},
   "outputs": [],
   "source": [
    "# 读取已处理好的新闻正文关键词\n",
    "news_data_keyword = pd.read_csv('./news/preprocess_data/新闻正文关键词.csv')\n",
    "# 将有问题的关键词剔除\n",
    "keyword_not_need = []\n",
    "with open('./news/preprocess_data/关键词-需剔除.txt', 'r') as f:\n",
    "    for line in f:\n",
    "        keyword_not_need.append(line.strip())\n",
    "def filter_keyword(keywords):\n",
    "    keywords = keywords.split()\n",
    "    keywords = np.setdiff1d(np.array(keywords), np.array(keyword_not_need))\n",
    "    return ' '.join(keywords)\n",
    "news_data_keyword['新闻关键词'] = news_data_keyword['新闻关键词'].map(filter_keyword)"
   ]
  },
  {
   "cell_type": "code",
   "execution_count": 8,
   "metadata": {},
   "outputs": [
    {
     "data": {
      "text/html": [
       "<div>\n",
       "<style scoped>\n",
       "    .dataframe tbody tr th:only-of-type {\n",
       "        vertical-align: middle;\n",
       "    }\n",
       "\n",
       "    .dataframe tbody tr th {\n",
       "        vertical-align: top;\n",
       "    }\n",
       "\n",
       "    .dataframe thead th {\n",
       "        text-align: right;\n",
       "    }\n",
       "</style>\n",
       "<table border=\"1\" class=\"dataframe\">\n",
       "  <thead>\n",
       "    <tr style=\"text-align: right;\">\n",
       "      <th></th>\n",
       "      <th>新闻发布日期</th>\n",
       "      <th>新闻url</th>\n",
       "      <th>新闻关键词</th>\n",
       "      <th>新闻标题</th>\n",
       "    </tr>\n",
       "  </thead>\n",
       "  <tbody>\n",
       "    <tr>\n",
       "      <th>0</th>\n",
       "      <td>2020-02-27</td>\n",
       "      <td>https://finance.sina.com.cn/money/future/roll/...</td>\n",
       "      <td>PTA 下行</td>\n",
       "      <td>弱成本&amp;amp;弱供需PTA顺势下行</td>\n",
       "    </tr>\n",
       "    <tr>\n",
       "      <th>1</th>\n",
       "      <td>2020-02-27</td>\n",
       "      <td>https://finance.sina.com.cn/chanjing/cyxw/2020...</td>\n",
       "      <td>新冠肺炎 疫情</td>\n",
       "      <td>英媒：中国养蜂人遭“封锁”新冠病毒“蜇疼”蜂蜜生产国</td>\n",
       "    </tr>\n",
       "    <tr>\n",
       "      <th>2</th>\n",
       "      <td>2020-02-27</td>\n",
       "      <td>https://finance.sina.com.cn/world/gjjj/2020-02...</td>\n",
       "      <td>中国 人数 富豪 美国 身价</td>\n",
       "      <td>美媒：中国超级富豪人数超过美印之和</td>\n",
       "    </tr>\n",
       "    <tr>\n",
       "      <th>3</th>\n",
       "      <td>2020-02-27</td>\n",
       "      <td>https://finance.sina.com.cn/world/gjjj/2020-02...</td>\n",
       "      <td>新冠肺炎 野生动物</td>\n",
       "      <td>英媒：疫情导致中国的野生动物养殖面临困境</td>\n",
       "    </tr>\n",
       "    <tr>\n",
       "      <th>4</th>\n",
       "      <td>2020-02-27</td>\n",
       "      <td>https://news.sina.com.cn/w/2020-02-27/doc-iimx...</td>\n",
       "      <td>印度</td>\n",
       "      <td>印度：停职官员要坐“反省椅”等待最后“判决”</td>\n",
       "    </tr>\n",
       "  </tbody>\n",
       "</table>\n",
       "</div>"
      ],
      "text/plain": [
       "       新闻发布日期                                              新闻url  \\\n",
       "0  2020-02-27  https://finance.sina.com.cn/money/future/roll/...   \n",
       "1  2020-02-27  https://finance.sina.com.cn/chanjing/cyxw/2020...   \n",
       "2  2020-02-27  https://finance.sina.com.cn/world/gjjj/2020-02...   \n",
       "3  2020-02-27  https://finance.sina.com.cn/world/gjjj/2020-02...   \n",
       "4  2020-02-27  https://news.sina.com.cn/w/2020-02-27/doc-iimx...   \n",
       "\n",
       "            新闻关键词                        新闻标题  \n",
       "0          PTA 下行          弱成本&amp;弱供需PTA顺势下行  \n",
       "1         新冠肺炎 疫情  英媒：中国养蜂人遭“封锁”新冠病毒“蜇疼”蜂蜜生产国  \n",
       "2  中国 人数 富豪 美国 身价           美媒：中国超级富豪人数超过美印之和  \n",
       "3       新冠肺炎 野生动物        英媒：疫情导致中国的野生动物养殖面临困境  \n",
       "4              印度      印度：停职官员要坐“反省椅”等待最后“判决”  "
      ]
     },
     "execution_count": 8,
     "metadata": {},
     "output_type": "execute_result"
    }
   ],
   "source": [
    "news_data_keyword.head()"
   ]
  },
  {
   "cell_type": "code",
   "execution_count": 9,
   "metadata": {},
   "outputs": [
    {
     "name": "stdout",
     "output_type": "stream",
     "text": [
      "有评论的新闻文本数据有58881条，总共的新闻评论数为1527884条，一条新闻平均有25.94867614340789条评论\n"
     ]
    }
   ],
   "source": [
    "# 筛选有评论数据的新闻文本\n",
    "# 对新闻评论数据中的新闻url进行去重，得到有评论的新闻url，并使用该新闻url数据对新闻文本关键词数据进行筛选\n",
    "# 获得新闻评论数据中的去重url\n",
    "urls_unique = comment_data_df['新闻url'].unique()\n",
    "# 筛选出有评论数据的新闻文本关键词数据\n",
    "news_data_keyword_have_commment = news_data_keyword[news_data_keyword['新闻url'].isin(urls_unique)]\n",
    "print('有评论的新闻文本数据有{}条，总共的新闻评论数为{}条，一条新闻平均有{}条评论'.format(\n",
    "    len(news_data_keyword_have_commment), len(comment_data_df), \n",
    "    len(comment_data_df) / len(news_data_keyword_have_commment)))"
   ]
  },
  {
   "cell_type": "markdown",
   "metadata": {},
   "source": [
    "# 2.提取出跟疫情相关的新闻\n",
    "对新闻文本关键词数据中的关键词进行筛选，提取出跟疫情有关的关键词，并使用这些关键词提取出相关新闻url"
   ]
  },
  {
   "cell_type": "code",
   "execution_count": 10,
   "metadata": {},
   "outputs": [],
   "source": [
    "# 提取到所有的关键词\n",
    "all_news_keyword = set()\n",
    "for keywords in news_data_keyword_have_commment['新闻关键词']:\n",
    "    for keyword in keywords.split():\n",
    "        all_news_keyword.add(keyword)\n",
    "with open('./news/preprocess_data/all_keywords_have_comment.txt', 'w', encoding='utf8') as f:\n",
    "    for i in all_news_keyword:\n",
    "        f.write('{}\\n'.format(i))"
   ]
  },
  {
   "cell_type": "code",
   "execution_count": 11,
   "metadata": {},
   "outputs": [],
   "source": [
    "# 在all_keywords_have_comment.txt中筛选出跟疫情相关的319关键词，存储在疫情相关关键词.txt中\n",
    "yiqing_keyword = []\n",
    "with open('./news/preprocess_data/疫情相关关键词.txt', 'r', encoding='utf8') as f:\n",
    "    for line in f:\n",
    "        yiqing_keyword.append(line.strip())"
   ]
  },
  {
   "cell_type": "code",
   "execution_count": 12,
   "metadata": {},
   "outputs": [
    {
     "name": "stdout",
     "output_type": "stream",
     "text": [
      "通过疫情关键词，总共筛选出21348条新闻文本数据\n"
     ]
    }
   ],
   "source": [
    "# 通过获取到的319个疫情相关关键词，提取跟疫情相关的新闻url\n",
    "def is_yiqing_keyword(keywords):\n",
    "    is_in = False\n",
    "    for i in keywords.split():\n",
    "        if i in yiqing_keyword:\n",
    "            is_in = True\n",
    "    return is_in\n",
    "news_data_keyword_have_commment_yiqing = news_data_keyword_have_commment[news_data_keyword_have_commment['新闻关键词'].apply(is_yiqing_keyword)]\n",
    "print('通过疫情关键词，总共筛选出{}条新闻文本数据'.format(len(news_data_keyword_have_commment_yiqing)))"
   ]
  },
  {
   "cell_type": "code",
   "execution_count": 14,
   "metadata": {},
   "outputs": [],
   "source": [
    "# 由于关键词筛选出的疫情新闻文本中仍然存在一定的偏差(例如1月初期)，因此还需要对新闻数据进行筛选，最终获得21231篇疫情新闻文本\n",
    "news_data_keyword_have_commment_yiqing = pd.read_csv('./news/preprocess_data/疫情相关新闻正文关键词-已筛选.csv')"
   ]
  },
  {
   "cell_type": "markdown",
   "metadata": {},
   "source": [
    "# 3.根据提取出的与疫情相关的新闻数据，提取出对应的评论数据，并对评论数据进行清洗"
   ]
  },
  {
   "cell_type": "code",
   "execution_count": 15,
   "metadata": {},
   "outputs": [
    {
     "name": "stdout",
     "output_type": "stream",
     "text": [
      "总共提取到587851条疫情相关的新闻评论\n"
     ]
    }
   ],
   "source": [
    "# 根据提取到的疫情相关的url，提取出这些新闻url对应的评论数据\n",
    "comment_data_yiqing = comment_data_df[comment_data_df['新闻url'].isin(news_data_keyword_have_commment_yiqing['新闻url'].unique())]\n",
    "print('总共提取到{}条疫情相关的新闻评论'.format(len(comment_data_yiqing)))"
   ]
  },
  {
   "cell_type": "code",
   "execution_count": 16,
   "metadata": {},
   "outputs": [
    {
     "name": "stderr",
     "output_type": "stream",
     "text": [
      "/Users/apple/opt/anaconda3/envs/pytorch/lib/python3.7/site-packages/ipykernel_launcher.py:9: SettingWithCopyWarning: \n",
      "A value is trying to be set on a copy of a slice from a DataFrame.\n",
      "Try using .loc[row_indexer,col_indexer] = value instead\n",
      "\n",
      "See the caveats in the documentation: https://pandas.pydata.org/pandas-docs/stable/user_guide/indexing.html#returning-a-view-versus-a-copy\n",
      "  if __name__ == '__main__':\n"
     ]
    }
   ],
   "source": [
    "# 剔除评论数据中的异常字符，例如emoji表情包\n",
    "def filter_emoji(desstr, restr=''):  \n",
    "    # 过滤emoji表情   \n",
    "    try:  \n",
    "        co = re.compile(u'[\\U00010000-\\U0010ffff]')  \n",
    "    except re.error:\n",
    "        co = re.compile(u'[\\uD800-\\uDBFF][\\uDC00-\\uDFFF]')\n",
    "    return co.sub(restr, desstr)\n",
    "comment_data_yiqing['评论内容'] = comment_data_yiqing['评论内容'].apply(filter_emoji)"
   ]
  },
  {
   "cell_type": "code",
   "execution_count": 17,
   "metadata": {},
   "outputs": [
    {
     "name": "stderr",
     "output_type": "stream",
     "text": [
      "/Users/apple/opt/anaconda3/envs/pytorch/lib/python3.7/site-packages/ipykernel_launcher.py:4: SettingWithCopyWarning: \n",
      "A value is trying to be set on a copy of a slice from a DataFrame.\n",
      "Try using .loc[row_indexer,col_indexer] = value instead\n",
      "\n",
      "See the caveats in the documentation: https://pandas.pydata.org/pandas-docs/stable/user_guide/indexing.html#returning-a-view-versus-a-copy\n",
      "  after removing the cwd from sys.path.\n"
     ]
    }
   ],
   "source": [
    "# 过滤[good]、[doge]这类表情包\n",
    "def filter_another_emoticon(comment):\n",
    "    return re.sub(r'\\[.*?\\]', '', comment)\n",
    "comment_data_yiqing['评论内容'] = comment_data_yiqing['评论内容'].apply(filter_another_emoticon)"
   ]
  },
  {
   "cell_type": "markdown",
   "metadata": {},
   "source": [
    "# 4.对疫情相关新闻评论数据进行描述性统计分析"
   ]
  },
  {
   "cell_type": "markdown",
   "metadata": {},
   "source": [
    "## 4.1疫情相关新闻评论数据中的发布日期的分布"
   ]
  },
  {
   "cell_type": "code",
   "execution_count": 18,
   "metadata": {},
   "outputs": [
    {
     "data": {
      "text/plain": [
       "2020-01-01     63\n",
       "2020-01-02    349\n",
       "2020-01-03    158\n",
       "2020-01-04    123\n",
       "2020-01-05    183\n",
       "             ... \n",
       "2020-08-31      4\n",
       "2020-09-01      1\n",
       "2020-09-02      6\n",
       "2020-09-04      2\n",
       "2020-09-05      3\n",
       "Name: 评论发布日期, Length: 225, dtype: int64"
      ]
     },
     "execution_count": 18,
     "metadata": {},
     "output_type": "execute_result"
    }
   ],
   "source": [
    "news_data_riqi = comment_data_yiqing['评论发布日期'].value_counts()\n",
    "news_data_riqi.sort_index(ascending=True, inplace=True)\n",
    "news_data_riqi"
   ]
  },
  {
   "cell_type": "code",
   "execution_count": 19,
   "metadata": {},
   "outputs": [
    {
     "data": {
      "text/plain": [
       "0.01505653643525315"
      ]
     },
     "execution_count": 19,
     "metadata": {},
     "output_type": "execute_result"
    }
   ],
   "source": [
    "# 发现除了01-01到03-08期间发布的评论外，还有很多评论是03-08之后，但是这些评论的数量仅占总评论数量的1.5%，因此考虑剔除\n",
    "len(comment_data_yiqing[comment_data_yiqing['评论发布日期']>'2020-03-08']) / len(comment_data_yiqing)"
   ]
  },
  {
   "cell_type": "code",
   "execution_count": 20,
   "metadata": {},
   "outputs": [
    {
     "name": "stdout",
     "output_type": "stream",
     "text": [
      "2020-01-01至2020-03-08期间发布的评论数量为579000条\n"
     ]
    }
   ],
   "source": [
    "# 仅保留评论发布日期在01-01到03-08之间的评论数据\n",
    "comment_data_yiqing = comment_data_yiqing[comment_data_yiqing['评论发布日期']<='2020-03-08']\n",
    "print('2020-01-01至2020-03-08期间发布的评论数量为{}条'.format(len(comment_data_yiqing)))"
   ]
  },
  {
   "cell_type": "code",
   "execution_count": 21,
   "metadata": {},
   "outputs": [],
   "source": [
    "# 制作每日评论数量折线图所需的数据\n",
    "comment_date_data = comment_data_yiqing['评论发布日期'].value_counts()\n",
    "comment_date_data.sort_index(ascending=True, inplace=True)"
   ]
  },
  {
   "cell_type": "code",
   "execution_count": 85,
   "metadata": {},
   "outputs": [],
   "source": [
    "with open('./report/echarts图表/js/comment_date.js', 'w', encoding='utf8') as f:\n",
    "    f.write('const comment_date = ')\n",
    "    f.write(str(list(comment_date_data.index)))"
   ]
  },
  {
   "cell_type": "code",
   "execution_count": 86,
   "metadata": {},
   "outputs": [],
   "source": [
    "with open('./report/echarts图表/js/comment_date_data.js', 'w', encoding='utf8') as f:\n",
    "    f.write('const comment_date_data = ')\n",
    "    f.write(str(list(comment_date_data.values)))"
   ]
  },
  {
   "cell_type": "markdown",
   "metadata": {},
   "source": [
    "- 可以看出，在1-21开始，针对疫情的评论明显开始增多\n",
    "- 从1-21到3-8期间，针对疫情的每日评论数量基本维持在了10000以上\n",
    "- 在1-31至2-2期间，达到每天15000+的评论数，为当时讨论的高峰期\n",
    "- 具体可见`report/echarts图表/每日新闻评论数量折线图.html`\n",
    "![](img/2022-03-11-08-27-32.png)"
   ]
  },
  {
   "cell_type": "markdown",
   "metadata": {},
   "source": [
    "## 4.2疫情相关新闻评论数据的地域分布"
   ]
  },
  {
   "cell_type": "code",
   "execution_count": 25,
   "metadata": {},
   "outputs": [],
   "source": [
    "# 由于评论数据中的评论发布区域中包含有很多噪音数据，因此，我们仅统计包含全国34个省、直辖市、自治区名称的地域数据\n",
    "province_name = ['北京', '天津', '上海', '重庆', '河北', '河南', '云南', '辽宁', '黑龙江', '湖南', '安徽', '山东', '新疆',\n",
    "                 '江苏', '浙江', '江西', '湖北', '广西', '甘肃', '山西', '内蒙古', '陕西', '吉林', '福建', '贵州', '广东',\n",
    "                 '青海', '西藏', '四川', '宁夏', '海南', '台湾', '香港', '澳门']"
   ]
  },
  {
   "cell_type": "code",
   "execution_count": 26,
   "metadata": {},
   "outputs": [
    {
     "name": "stdout",
     "output_type": "stream",
     "text": [
      "经过地域筛选后，还剩559254条评论数据\n"
     ]
    }
   ],
   "source": [
    "# 筛选评论发布区域包含province_name的评论数据\n",
    "def is_in_province_name(area):\n",
    "    is_in = False\n",
    "    for i in province_name:\n",
    "        if i in area:\n",
    "            is_in = True\n",
    "    return is_in\n",
    "comment_province_data = comment_data_yiqing[comment_data_yiqing['评论发布区域'].map(is_in_province_name)]\n",
    "print('经过地域筛选后，还剩{}条评论数据'.format(len(comment_province_data)))"
   ]
  },
  {
   "cell_type": "code",
   "execution_count": 27,
   "metadata": {},
   "outputs": [
    {
     "name": "stderr",
     "output_type": "stream",
     "text": [
      "/Users/apple/opt/anaconda3/envs/pytorch/lib/python3.7/site-packages/ipykernel_launcher.py:8: SettingWithCopyWarning: \n",
      "A value is trying to be set on a copy of a slice from a DataFrame.\n",
      "Try using .loc[row_indexer,col_indexer] = value instead\n",
      "\n",
      "See the caveats in the documentation: https://pandas.pydata.org/pandas-docs/stable/user_guide/indexing.html#returning-a-view-versus-a-copy\n",
      "  \n"
     ]
    }
   ],
   "source": [
    "# 将不同的地域统一到省级，如浙江杭州、浙江宁波都统一为浙江\n",
    "def get_area(area):\n",
    "    name = ''\n",
    "    for i in province_name:\n",
    "        if i in area:\n",
    "            name = i\n",
    "    return name\n",
    "comment_province_data['评论发布地'] = comment_province_data['评论发布区域'].map(get_area)"
   ]
  },
  {
   "cell_type": "code",
   "execution_count": 28,
   "metadata": {},
   "outputs": [],
   "source": [
    "# 统计各个地区的评论数量\n",
    "comment_province = comment_province_data['评论发布地'].value_counts()"
   ]
  },
  {
   "cell_type": "code",
   "execution_count": 87,
   "metadata": {},
   "outputs": [
    {
     "data": {
      "text/plain": [
       "北京     84693\n",
       "广东     52953\n",
       "山东     36551\n",
       "江苏     36530\n",
       "浙江     30197\n",
       "上海     30141\n",
       "湖北     26642\n",
       "四川     24804\n",
       "河南     23188\n",
       "河北     22722\n",
       "辽宁     20251\n",
       "安徽     16605\n",
       "江西     13709\n",
       "湖南     13371\n",
       "陕西     12871\n",
       "广西     12765\n",
       "福建     11965\n",
       "黑龙江    11316\n",
       "天津     11171\n",
       "重庆     11130\n",
       "山西      9950\n",
       "吉林      8146\n",
       "云南      6942\n",
       "内蒙古     6506\n",
       "贵州      5122\n",
       "甘肃      4480\n",
       "新疆      4478\n",
       "海南      4304\n",
       "宁夏      1857\n",
       "香港      1403\n",
       "青海      1104\n",
       "台湾       967\n",
       "西藏       249\n",
       "澳门       171\n",
       "Name: 评论发布地, dtype: int64"
      ]
     },
     "execution_count": 87,
     "metadata": {},
     "output_type": "execute_result"
    }
   ],
   "source": [
    "comment_province"
   ]
  },
  {
   "cell_type": "code",
   "execution_count": 89,
   "metadata": {},
   "outputs": [],
   "source": [
    "# 制作地图所需的数据\n",
    "with open('./report/echarts图表/js/comment_area_data.js', 'w', encoding='utf8') as f:\n",
    "    lst = []\n",
    "    for i in range(len(comment_province)):\n",
    "        dic = {}\n",
    "        dic['name'] = comment_province.index[i]\n",
    "        dic['value'] = comment_province.values[i]\n",
    "        lst.append(dic)\n",
    "    f.write('const comment_area_data = ')\n",
    "    f.write(str(lst))"
   ]
  },
  {
   "cell_type": "markdown",
   "metadata": {},
   "source": [
    "- 可以看出，评论的地域分布，还是集中在北京、上海、广东、山东、江苏、浙江等人口较多的地区\n",
    "- 具体见`report/echarts图表/新闻评论数量地域分布.html`\n",
    "![](img/2022-03-11-08-34-25.png)"
   ]
  },
  {
   "cell_type": "markdown",
   "metadata": {},
   "source": [
    "# 5. 针对疫情相关新闻的评论数据的情感分析"
   ]
  },
  {
   "cell_type": "code",
   "execution_count": 30,
   "metadata": {},
   "outputs": [
    {
     "data": {
      "text/plain": [
       "count    579000.000000\n",
       "mean         23.014801\n",
       "std          30.089891\n",
       "min           0.000000\n",
       "25%           7.000000\n",
       "50%          14.000000\n",
       "75%          28.000000\n",
       "max        2421.000000\n",
       "Name: 评论内容, dtype: float64"
      ]
     },
     "execution_count": 30,
     "metadata": {},
     "output_type": "execute_result"
    }
   ],
   "source": [
    "# 对评论内容的字数长度进行统计，发现存在一部分离散值\n",
    "comment_data_yiqing['评论内容'].apply(lambda x: len(x)).describe()"
   ]
  },
  {
   "cell_type": "code",
   "execution_count": 31,
   "metadata": {},
   "outputs": [
    {
     "data": {
      "text/plain": [
       "(array([195416., 165152.,  84913.,  46084.,  27306.,  17364.,  11529.,\n",
       "          7965.,   5590.,   4028.,   2843.,   2191.,   1645.,   1561.,\n",
       "          1257.,    678.,    535.,    431.,    393.,    351.]),\n",
       " array([  0.,  10.,  20.,  30.,  40.,  50.,  60.,  70.,  80.,  90., 100.,\n",
       "        110., 120., 130., 140., 150., 160., 170., 180., 190., 200.]),\n",
       " <a list of 20 Patch objects>)"
      ]
     },
     "execution_count": 31,
     "metadata": {},
     "output_type": "execute_result"
    },
    {
     "data": {
      "image/png": "[encoded data removed]",
      "text/plain": [
       "<Figure size 432x288 with 1 Axes>"
      ]
     },
     "metadata": {
      "needs_background": "light"
     },
     "output_type": "display_data"
    }
   ],
   "source": [
    "# 可以看到评论长度基本在125字以下\n",
    "plt.hist(comment_data_yiqing['评论内容'].apply(lambda x: len(x)), bins=20, range=(0, 200))"
   ]
  },
  {
   "cell_type": "code",
   "execution_count": 32,
   "metadata": {},
   "outputs": [
    {
     "name": "stdout",
     "output_type": "stream",
     "text": [
      "571389\n"
     ]
    }
   ],
   "source": [
    "# 对大于125的评论数据进行剔除\n",
    "comment_data_yiqing_limit = comment_data_yiqing[(comment_data_yiqing['评论内容'].apply(lambda x: len(x))<=125) ]\n",
    "print(len(comment_data_yiqing_limit))"
   ]
  },
  {
   "cell_type": "code",
   "execution_count": 63,
   "metadata": {},
   "outputs": [
    {
     "name": "stderr",
     "output_type": "stream",
     "text": [
      "/Users/apple/opt/anaconda3/envs/pytorch/lib/python3.7/site-packages/ipykernel_launcher.py:4: SettingWithCopyWarning: \n",
      "A value is trying to be set on a copy of a slice from a DataFrame.\n",
      "Try using .loc[row_indexer,col_indexer] = value instead\n",
      "\n",
      "See the caveats in the documentation: https://pandas.pydata.org/pandas-docs/stable/user_guide/indexing.html#returning-a-view-versus-a-copy\n",
      "  after removing the cwd from sys.path.\n"
     ]
    },
    {
     "data": {
      "text/plain": [
       "564428"
      ]
     },
     "execution_count": 63,
     "metadata": {},
     "output_type": "execute_result"
    }
   ],
   "source": [
    "# 另外，评论中存在一部分空值、一些换行符，也需要进行剔除\n",
    "comment_data_yiqing_limit = comment_data_yiqing_limit[comment_data_yiqing_limit['评论内容']!='']\n",
    "def remove_null(strs):\n",
    "    return strs.strip().replace(' ', '').replace('\\n', '').replace('\\t', '').replace(' \\r', '').replace(',', '，')\n",
    "comment_data_yiqing_limit['评论内容'] = comment_data_yiqing_limit['评论内容'].apply(lambda x: remove_null(x))\n",
    "len(comment_data_yiqing_limit)"
   ]
  },
  {
   "cell_type": "markdown",
   "metadata": {},
   "source": [
    "## 由于本次分析的新闻评论数据与weibo_senti_100k比较类似，因此使用BERT模型对weibo_senti_100k数据进行训练，获得相应的情感分类模型，并使用该模型对新闻评论进行情感分类(考虑到weibo_senti_100k仅标注了正面情绪与负面情绪，因此本次新闻评论情感分类仅进行正负倾向的区分)\n",
    "- weibo_senti_100k数据集见`data`目录\n",
    "- 模型训练代码见`sentiment_classification`目录"
   ]
  },
  {
   "cell_type": "code",
   "execution_count": 64,
   "metadata": {},
   "outputs": [],
   "source": [
    "comment_data_yiqing_limit.to_csv('./news/preprocess_data/疫情新闻评论_筛选.csv', index=False)"
   ]
  },
  {
   "cell_type": "code",
   "execution_count": 71,
   "metadata": {},
   "outputs": [],
   "source": [
    "# 使用`sentiment_classification/predict.py`脚本对疫情新闻评论_筛选.csv中的新闻评论进行情感倾向预测\n",
    "comment_data_yiqing_limit = pd.read_csv('./news/preprocess_data/疫情新闻评论_筛选_情感倾向.csv')\n",
    "# 评论情感分数计算：正面情绪情感分数赋值1，负面情绪情感分数赋值0\n",
    "comment_data_yiqing_limit['评论情感分数'] = comment_data_yiqing_limit['情感倾向'].apply(lambda x: 1 if x=='正面' else 0)"
   ]
  },
  {
   "cell_type": "markdown",
   "metadata": {},
   "source": [
    "## 5.1按照评论发布日期来分析评论情感分数的走势"
   ]
  },
  {
   "cell_type": "code",
   "execution_count": 72,
   "metadata": {},
   "outputs": [],
   "source": [
    "# 按照评论分布日期，对评论情感分数进行聚合，并取平均值来反映当日的评论倾向\n",
    "comment_emotion_score_date = comment_data_yiqing_limit['评论情感分数'].groupby(\n",
    "                                                comment_data_yiqing_limit['评论发布日期']).mean()"
   ]
  },
  {
   "cell_type": "code",
   "execution_count": 73,
   "metadata": {},
   "outputs": [
    {
     "data": {
      "text/plain": [
       "(Index(['2020-01-01', '2020-01-02', '2020-01-03', '2020-01-04', '2020-01-05',\n",
       "        '2020-01-06', '2020-01-07', '2020-01-08', '2020-01-09', '2020-01-10',\n",
       "        '2020-01-11', '2020-01-12', '2020-01-13', '2020-01-14', '2020-01-15',\n",
       "        '2020-01-16', '2020-01-17', '2020-01-18', '2020-01-19', '2020-01-20',\n",
       "        '2020-01-21', '2020-01-22', '2020-01-23', '2020-01-24', '2020-01-25',\n",
       "        '2020-01-26', '2020-01-27', '2020-01-28', '2020-01-29', '2020-01-30',\n",
       "        '2020-01-31', '2020-02-01', '2020-02-02', '2020-02-03', '2020-02-04',\n",
       "        '2020-02-05', '2020-02-06', '2020-02-07', '2020-02-08', '2020-02-09',\n",
       "        '2020-02-10', '2020-02-11', '2020-02-12', '2020-02-13', '2020-02-14',\n",
       "        '2020-02-15', '2020-02-16', '2020-02-17', '2020-02-18', '2020-02-19',\n",
       "        '2020-02-20', '2020-02-21', '2020-02-22', '2020-02-23', '2020-02-24',\n",
       "        '2020-02-25', '2020-02-26', '2020-02-27', '2020-02-28', '2020-02-29',\n",
       "        '2020-03-01', '2020-03-02', '2020-03-03', '2020-03-04', '2020-03-05',\n",
       "        '2020-03-06', '2020-03-07', '2020-03-08'],\n",
       "       dtype='object', name='评论发布日期'),\n",
       " array([0.45762712, 0.56797583, 0.625     , 0.62601626, 0.69886364,\n",
       "        0.6025641 , 0.7124183 , 0.76422764, 0.77966102, 0.66666667,\n",
       "        0.6557377 , 0.82905983, 0.73684211, 0.6122449 , 0.62015504,\n",
       "        0.68888889, 0.64754098, 0.66548043, 0.58404558, 0.56887755,\n",
       "        0.55537975, 0.48223561, 0.52418856, 0.56617941, 0.57991867,\n",
       "        0.56904283, 0.52428066, 0.49508408, 0.49531568, 0.44372878,\n",
       "        0.4438685 , 0.44007616, 0.44129266, 0.48303539, 0.50261927,\n",
       "        0.49255566, 0.46099945, 0.51662429, 0.49310617, 0.47371749,\n",
       "        0.50919201, 0.47733145, 0.51222963, 0.48403957, 0.53491082,\n",
       "        0.52700491, 0.49930018, 0.52076038, 0.56567029, 0.52028579,\n",
       "        0.53282852, 0.49972189, 0.52271501, 0.49475037, 0.54783362,\n",
       "        0.52229187, 0.49448307, 0.46636771, 0.47959593, 0.47637562,\n",
       "        0.50958667, 0.53642384, 0.51594272, 0.52412119, 0.50039595,\n",
       "        0.50262836, 0.53187166, 0.52594003]))"
      ]
     },
     "execution_count": 73,
     "metadata": {},
     "output_type": "execute_result"
    }
   ],
   "source": [
    "comment_emotion_score_date.index, comment_emotion_score_date.values"
   ]
  },
  {
   "cell_type": "code",
   "execution_count": 90,
   "metadata": {},
   "outputs": [],
   "source": [
    "with open('./report/echarts图表/js/comment_emotion_score_date_data.js', 'w', encoding='utf8') as f:\n",
    "    f.write('const comment_emotion_score_date_data = ')\n",
    "    f.write(str(list(comment_emotion_score_date.values)))"
   ]
  },
  {
   "cell_type": "markdown",
   "metadata": {},
   "source": [
    "- 可以看到在2020-01-19以前，新闻评论对于疫情的情感分数基本在0.6以上\n",
    "- 但是在2020-01-19之后情感分数基本都低于0.6，在0.5左右徘徊\n",
    "- 在2020-01-30至2020-02-02期间，情感分数甚至跌到了0.44左右\n",
    "- 这揭示了群众对于疫情的情感走向，在2020-01-19之前还是以乐观为主，\n",
    "- 但是在2020-01-19之后，随着更多的关于疫情的新闻流出，人民群众对于疫情的乐观程度开始下降，悲观情绪开始抬头，\n",
    "- 尤其是在武汉封城后出现的各种情况、李文亮医生事件爆发期间，情感分数明显降低，出现了明显的一个低谷\n",
    "- 但是随着疫情蔓延势头得到控制，人民群众对于疫情的情感分数也开始逐步提升，慢慢爬升到0.5左右\n",
    "- 具体见`report/echarts图表/每日新闻评论情感分数折线图.html`\n",
    "![](img/2022-03-11-09-01-24.png)"
   ]
  },
  {
   "cell_type": "markdown",
   "metadata": {},
   "source": [
    "## 5.2按照发布日期、地域来分析评论情感分数的走势"
   ]
  },
  {
   "cell_type": "code",
   "execution_count": 74,
   "metadata": {},
   "outputs": [],
   "source": [
    "# 对comment_data_yiqing_limit的评论发布区域进行处理\n",
    "comment_data_yiqing_limit['评论发布地'] = comment_province_data['评论发布区域'].map(get_area)"
   ]
  },
  {
   "cell_type": "code",
   "execution_count": 75,
   "metadata": {},
   "outputs": [],
   "source": [
    "# 按照发布日期、地域来分析情感分数走势\n",
    "comment_emotion_score_date_area = comment_data_yiqing_limit['评论情感分数'].groupby(\n",
    "    [comment_data_yiqing_limit['评论发布日期'], comment_data_yiqing_limit['评论发布地']]).mean()"
   ]
  },
  {
   "cell_type": "code",
   "execution_count": 76,
   "metadata": {},
   "outputs": [
    {
     "data": {
      "text/plain": [
       "68"
      ]
     },
     "execution_count": 76,
     "metadata": {},
     "output_type": "execute_result"
    }
   ],
   "source": [
    "len({date: [] for date, _ in comment_emotion_score_date_area.index})"
   ]
  },
  {
   "cell_type": "code",
   "execution_count": 77,
   "metadata": {},
   "outputs": [],
   "source": [
    "# 制作echarts需要的数据\n",
    "data = {date: [] for date, _ in comment_emotion_score_date_area.index}\n",
    "for i in range(len(comment_emotion_score_date_area)):\n",
    "    data[comment_emotion_score_date_area.index[i][0]].append({'name': comment_emotion_score_date_area.index[i][1], \n",
    "                                                              'value': comment_emotion_score_date_area.values[i]})\n"
   ]
  },
  {
   "cell_type": "code",
   "execution_count": 98,
   "metadata": {},
   "outputs": [],
   "source": [
    "with open('./report/echarts图表/js/comment_emotion_score_date_area_data.js', 'w', encoding='utf8') as f:\n",
    "    f.write('const comment_emotion_score_date_area_data = ')\n",
    "    f.write(str(data))"
   ]
  },
  {
   "cell_type": "markdown",
   "metadata": {},
   "source": [
    "- 可以看到在2020-01-19之前，全国各省份对于疫情的讨论很少，只有零星的几个省份的网友进行了讨论，而且评论情感也明显以正面为主\n",
    "- 但是从2020-01-19开始，全国各个省份的网友都开始对疫情进行讨论，然后评论情感也开始逐渐下滑\n",
    "- 但是随着疫情得到控制，各个省份的网友对于疫情的评论情感开始缓缓提升\n",
    "- 具体见`report/echarts图表/新闻评论情感分析_日期地域分布.html`\n",
    "![](report/gif/新闻评论情感分析_日期地域分布.gif)"
   ]
  },
  {
   "cell_type": "markdown",
   "metadata": {},
   "source": []
  }
 ],
 "metadata": {
  "interpreter": {
   "hash": "e01e9ef47000516f4422d4bd60458906d374317ff2d90b45c94dbf9e098ea38c"
  },
  "kernelspec": {
   "display_name": "Python 3.7.11 64-bit ('pytorch': conda)",
   "language": "python",
   "name": "python3"
  },
  "language_info": {
   "codemirror_mode": {
    "name": "ipython",
    "version": 3
   },
   "file_extension": ".py",
   "mimetype": "text/x-python",
   "name": "python",
   "nbconvert_exporter": "python",
   "pygments_lexer": "ipython3",
   "version": "3.7.11"
  },
  "orig_nbformat": 4
 },
 "nbformat": 4,
 "nbformat_minor": 2
}
